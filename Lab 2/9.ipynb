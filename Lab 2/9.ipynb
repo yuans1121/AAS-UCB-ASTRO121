{
 "cells": [
  {
   "cell_type": "code",
   "execution_count": 1,
   "metadata": {
    "collapsed": true
   },
   "outputs": [],
   "source": [
    "import matplotlib.pyplot as plt, numpy as np\n",
    "from astropy import units as u, constants as c"
   ]
  },
  {
   "cell_type": "code",
   "execution_count": 55,
   "metadata": {
    "code_folding": [],
    "collapsed": true
   },
   "outputs": [],
   "source": [
    "# this data in mm\n",
    "# taken at 3GHz @ 10dBm\n",
    "slotline_data = [19.5, 44.3, 69.5, 95.1, 119.5, 144.5, 169.1, 194.4, 219.1, 244.5, 269.3, 294.1, 318.9, 343.9, 368.1, 394, 418.9, 444.5, 468.5, 494.1]\n",
    "slotline_short_data = [27.7, 54,78.1, 103.1, 128.1, 153, 178.1, 203.1, 228.1, 253.1, 277.9, 303, 329, 352.5, 378.9, 402.9, 429.1, 453.3, 479, 503.1]"
   ]
  },
  {
   "cell_type": "code",
   "execution_count": 56,
   "metadata": {},
   "outputs": [],
   "source": [
    "x_range = np.arange(1,len(slotline_data))\n",
    "slotline_data = (slotline_data[:19] *u.mm).to(u.cm)\n",
    "slotline_short_data = (slotline_short_data[:19] *u.mm).to(u.cm)"
   ]
  },
  {
   "cell_type": "code",
   "execution_count": 57,
   "metadata": {},
   "outputs": [
    {
     "data": {
      "text/plain": [
       "19"
      ]
     },
     "execution_count": 57,
     "metadata": {},
     "output_type": "execute_result"
    }
   ],
   "source": [
    "len(slotline_data)"
   ]
  },
  {
   "cell_type": "code",
   "execution_count": 58,
   "metadata": {},
   "outputs": [
    {
     "data": {
      "image/png": "[encoded data removed]",
      "text/plain": [
       "<matplotlib.figure.Figure at 0x118e00128>"
      ]
     },
     "metadata": {},
     "output_type": "display_data"
    }
   ],
   "source": [
    "plt.plot(x_range, slotline_data, 'o')\n",
    "plt.plot(x_range, slotline_short_data, 'o')\n",
    "plt.xlim(-1,21)\n",
    "plt.ylim(0,50)\n",
    "# plt.yticks([-50,50,150,250,350,450,550])\n",
    "plt.show()"
   ]
  },
  {
   "cell_type": "code",
   "execution_count": 16,
   "metadata": {},
   "outputs": [],
   "source": [
    "slot_fit_vals = np.polyfit(x_range, slotline_data, 1)\n",
    "slot_short_fit_vals = np.polyfit(x_range, slotline_short_data, 1)"
   ]
  },
  {
   "cell_type": "code",
   "execution_count": 37,
   "metadata": {
    "collapsed": true
   },
   "outputs": [],
   "source": [
    "x_fit_range = np.arange(-1,22)\n",
    "slot_fit = np.polyval(slot_fit_vals, x_fit_range)\n",
    "slot_short_fit = np.polyval(slot_short_fit_vals, x_fit_range)"
   ]
  },
  {
   "cell_type": "code",
   "execution_count": 41,
   "metadata": {},
   "outputs": [
    {
     "data": {
      "image/png": "[encoded data removed]",
      "text/plain": [
       "<matplotlib.figure.Figure at 0x1183442b0>"
      ]
     },
     "metadata": {},
     "output_type": "display_data"
    }
   ],
   "source": [
    "plt.plot(x_fit_range, slot_fit, color = 'black', linewidth = 0.5, ls = ':')\n",
    "plt.plot(x_fit_range, slot_short_fit, color = 'black', linewidth = 0.5, ls = '--')\n",
    "plt.scatter(x_range, slotline_data, color = 'black', marker = 'v', s = 1)\n",
    "plt.scatter(x_range, slotline_short_data, color = 'black', marker = '^', s = 1)\n",
    "plt.xlim(-1,21)\n",
    "plt.ylim(0,500)\n",
    "# plt.yticks([-50,50,150,250,350,450,550])\n",
    "plt.show()"
   ]
  },
  {
   "cell_type": "code",
   "execution_count": null,
   "metadata": {
    "collapsed": true
   },
   "outputs": [],
   "source": []
  }
 ],
 "metadata": {
  "kernelspec": {
   "display_name": "Python [conda root]",
   "language": "python",
   "name": "conda-root-py"
  },
  "language_info": {
   "codemirror_mode": {
    "name": "ipython",
    "version": 3
   },
   "file_extension": ".py",
   "mimetype": "text/x-python",
   "name": "python",
   "nbconvert_exporter": "python",
   "pygments_lexer": "ipython3",
   "version": "3.5.3"
  },
  "latex_envs": {
   "LaTeX_envs_menu_present": true,
   "autoclose": false,
   "autocomplete": true,
   "bibliofile": "biblio.bib",
   "cite_by": "apalike",
   "current_citInitial": 1,
   "eqLabelWithNumbers": true,
   "eqNumInitial": 1,
   "hotkeys": {
    "equation": "Ctrl-E",
    "itemize": "Ctrl-I"
   },
   "labels_anchors": false,
   "latex_user_defs": false,
   "report_style_numbering": false,
   "user_envs_cfg": false
  }
 },
 "nbformat": 4,
 "nbformat_minor": 2
}
