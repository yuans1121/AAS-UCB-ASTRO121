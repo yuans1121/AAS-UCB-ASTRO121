{
 "cells": [
  {
   "cell_type": "code",
   "execution_count": 1,
   "metadata": {},
   "outputs": [
    {
     "data": {
      "text/html": [
       "<style>.container { width:100% !important; }</style>"
      ],
      "text/plain": [
       "<IPython.core.display.HTML object>"
      ]
     },
     "metadata": {},
     "output_type": "display_data"
    }
   ],
   "source": [
    "# setup\n",
    "# import latex_plots\n",
    "import matplotlib.pyplot as plt, numpy as np\n",
    "from IPython.core.display import display, HTML\n",
    "from matplotlib.ticker import MultipleLocator\n",
    "from pylab import rcParams\n",
    "from numpy.fft import fftshift as shift\n",
    "from astropy import units as u, constants as c\n",
    "from matplotlib.ticker import MultipleLocator\n",
    "\n",
    "display(HTML(\"<style>.container { width:100% !important; }</style>\"))"
   ]
  },
  {
   "cell_type": "code",
   "execution_count": 2,
   "metadata": {
    "code_folding": [],
    "collapsed": true
   },
   "outputs": [],
   "source": [
    "# Functions\n",
    "def iter_loadtxt(filename, delimiter=',', skiprows=0, dtype=float):\n",
    "    def iter_func():\n",
    "        with open(filename, 'r') as infile:\n",
    "            for _ in range(skiprows):\n",
    "                next(infile)\n",
    "            for line in infile:\n",
    "                line = line.rstrip().split(delimiter)\n",
    "                for item in line:\n",
    "                    yield dtype(item)\n",
    "        iter_loadtxt.rowlength = len(line)\n",
    "\n",
    "    data = np.fromiter(iter_func(), dtype=dtype)\n",
    "    \n",
    "    return data\n",
    "\n",
    "def scale(data, volt_range):\n",
    "    volt_dict = {'50mV':0.05, '100mV':0.1, '200mV':0.2, '500mV':0.5, '1V':1., '2V':2., '5V':5., '10V':10., '20V':20.} \n",
    "    return data * volt_dict[volt_range] / np.iinfo(np.int16).max \n",
    "\n",
    "def reshape_complex(data, nblocks, nsamples = 16000):\n",
    "    split_data = np.array(np.split(data, nblocks * 2))\n",
    "    imag_index = np.array((np.arange(0, 2 * nblocks) >= nblocks), dtype = bool)\n",
    "    real_index = np.invert(imag_index)\n",
    "    return split_data[real_index] + 1j*split_data[imag_index]\n",
    "\n",
    "def power(data):\n",
    "    return np.abs(np.fft.fft(data))**2\n",
    "\n",
    "def freq_array(divisor, nsamples = 16000):\n",
    "    sample_rate = (62.5*u.MHz / float(divisor)).to(u.Hz)\n",
    "    dt = (1/sample_rate).to(u.s)\n",
    "    return np.fft.fftfreq(nsamples, dt).to(u.MHz)\n",
    "\n",
    "def time_array(divisor, units = 'us', nsamples = 16000):\n",
    "    \n",
    "    \"\"\"Comput time array. X-axis for plotting time-series.\n",
    "    \n",
    "    Args:\n",
    "        divisor         (int)   :   Indirect sample_rate control\n",
    "        units           (str)   :   Time units for output array.\n",
    "                                    --default = 'us' (microseconds)\n",
    "        nsamples        (int)   :   Number of elements in Y-axis array\n",
    "                                    --default = 16000\n",
    "\n",
    "    Returns:\n",
    "                    (ndarray)   :   1D array of Time in desired units\n",
    "    \"\"\"\n",
    "    \n",
    "    # Sample rate, in Hz\n",
    "    sample_rate = (62.5*u.MHz / float(divisor)).to(u.Hz)\n",
    "\n",
    "    # Time between samples, in seconds\n",
    "    dt = (1/sample_rate).to(u.s)\n",
    "    \n",
    "    if units == 'us':\n",
    "        return np.arange(0,nsamples) * dt.to(u.us)\n",
    "    elif units == 'None' or units == None:\n",
    "        return np.arange(0,nsamples) * dt"
   ]
  },
  {
   "cell_type": "code",
   "execution_count": 3,
   "metadata": {
    "collapsed": true
   },
   "outputs": [],
   "source": [
    "# global variables\n",
    "nblocks = 50\n",
    "divisor = 10\n",
    "volt_range = '200mV'\n",
    "nsamples = 16000\n",
    "towers = 1\n"
   ]
  },
  {
   "cell_type": "code",
   "execution_count": 4,
   "metadata": {},
   "outputs": [
    {
     "name": "stdout",
     "output_type": "stream",
     "text": [
      "1\n"
     ]
    }
   ],
   "source": [
    "towers_1230 = np.zeros((towers, nblocks * 2 * nsamples))\n",
    "for i in range(towers):\n",
    "    filename = '1230MHz/tower_' + str(i) + '.txt'\n",
    "    towers_1230[i, :] = iter_loadtxt(filename)\n",
    "    print(towers - i)"
   ]
  },
  {
   "cell_type": "code",
   "execution_count": 5,
   "metadata": {
    "collapsed": true
   },
   "outputs": [],
   "source": [
    "towers_1230_s = scale(towers_1230, volt_range)[0]"
   ]
  },
  {
   "cell_type": "code",
   "execution_count": 6,
   "metadata": {
    "collapsed": true
   },
   "outputs": [],
   "source": [
    "towers_1230_s_s = towers_1230_s*1e3"
   ]
  },
  {
   "cell_type": "code",
   "execution_count": 7,
   "metadata": {},
   "outputs": [
    {
     "data": {
      "text/plain": [
       "(1600000,)"
      ]
     },
     "execution_count": 7,
     "metadata": {},
     "output_type": "execute_result"
    }
   ],
   "source": [
    "towers_1230_s_s.shape"
   ]
  },
  {
   "cell_type": "code",
   "execution_count": 8,
   "metadata": {
    "collapsed": true
   },
   "outputs": [],
   "source": [
    "\n",
    "# Define Gaussian distribution (Normalized when A = 1)\n",
    "def gaussian(x, mu, sigma,A):\n",
    "    return A*np.exp(-((x-mu)**2/(2*sigma**2)))"
   ]
  },
  {
   "cell_type": "code",
   "execution_count": 9,
   "metadata": {
    "collapsed": true
   },
   "outputs": [],
   "source": [
    "hist, bins = np.histogram(towers_1230_s_s, bins = 25)\n",
    "hist = hist*1e-3\n",
    "width = 1 * (bins[1] - bins[0])\n",
    "center = (bins[:-1] + bins[1:]) / 2\n",
    "from scipy.optimize import curve_fit\n",
    "popt, pcov = curve_fit(gaussian,\n",
    "                           center,\n",
    "                           hist)"
   ]
  },
  {
   "cell_type": "code",
   "execution_count": 22,
   "metadata": {},
   "outputs": [
    {
     "data": {
      "text/plain": [
       "array([-190.50581378, -174.63032929, -158.75484481, -142.87936033,\n",
       "       -127.00387585, -111.12839137,  -95.25290689,  -79.37742241,\n",
       "        -63.50193793,  -47.62645344,  -31.75096896,  -15.87548448,\n",
       "          0.        ,   15.87548448,   31.75096896,   47.62645344,\n",
       "         63.50193793,   79.37742241,   95.25290689,  111.12839137,\n",
       "        127.00387585,  142.87936033,  158.75484481,  174.63032929,\n",
       "        190.50581378])"
      ]
     },
     "execution_count": 22,
     "metadata": {},
     "output_type": "execute_result"
    }
   ],
   "source": []
  },
  {
   "cell_type": "code",
   "execution_count": null,
   "metadata": {
    "collapsed": true
   },
   "outputs": [],
   "source": []
  },
  {
   "cell_type": "code",
   "execution_count": 10,
   "metadata": {},
   "outputs": [
    {
     "data": {
      "image/png": "[encoded data removed]",
      "text/plain": [
       "<matplotlib.figure.Figure at 0x10e7d3e48>"
      ]
     },
     "metadata": {},
     "output_type": "display_data"
    }
   ],
   "source": [
    "fig, ax = plt.subplots()\n",
    "hist, bins = np.histogram(towers_1230_s_s, bins = 25)\n",
    "hist = hist*1e-3\n",
    "ax.set_xlabel('Amplitude [ mV ]')\n",
    "ax.set_ylabel(r'Count [ $10^3$ ]')\n",
    "ax.set_title('Check for quantization')\n",
    "width = 1 * (bins[1] - bins[0])\n",
    "center = (bins[:-1] + bins[1:]) / 2\n",
    "ax.bar(center, hist, align='center', width=width, color = 'gray', edgecolor='black', linewidth = 1)\n",
    "ax.plot(np.arange(-200,200,1), gaussian(np.arange(-200,200,1),*popt), color = 'black')\n",
    "plt.show()"
   ]
  },
  {
   "cell_type": "code",
   "execution_count": 10,
   "metadata": {},
   "outputs": [
    {
     "data": {
      "text/plain": [
       "array([-190.50581378, -174.63032929, -158.75484481, -142.87936033,\n",
       "       -127.00387585, -111.12839137,  -95.25290689,  -79.37742241,\n",
       "        -63.50193793,  -47.62645344,  -31.75096896,  -15.87548448,\n",
       "          0.        ,   15.87548448,   31.75096896,   47.62645344,\n",
       "         63.50193793,   79.37742241,   95.25290689,  111.12839137,\n",
       "        127.00387585,  142.87936033,  158.75484481,  174.63032929,\n",
       "        190.50581378])"
      ]
     },
     "execution_count": 10,
     "metadata": {},
     "output_type": "execute_result"
    }
   ],
   "source": []
  },
  {
   "cell_type": "code",
   "execution_count": 86,
   "metadata": {
    "collapsed": true
   },
   "outputs": [],
   "source": [
    "from  matplotlib import rcParams"
   ]
  },
  {
   "cell_type": "code",
   "execution_count": null,
   "metadata": {
    "collapsed": true
   },
   "outputs": [],
   "source": [
    "# mean_ = np.mean(data)\n",
    "# std_ = np.std(data)\n",
    "\n",
    "# gauss_x = np.linspace(-6*std_,6*std_)\n",
    "# gauss = gaussian(gauss_x, mean_, std_,1)\n",
    "\n",
    "# ax.plot(gauss_x,\n",
    "#         gauss,\n",
    "#         color = 'black',\n",
    "#         linewidth = 5)\n",
    "\n",
    "# # Define Gaussian distribution (Normalized when A = 1)\n",
    "# def gaussian(x, mu, sigma,A):\n",
    "#     return A*((2*np.pi*sigma**2)**(-1/2))*np.exp(-((x-mu)**2/(2*sigma**2)))\n",
    "\n"
   ]
  },
  {
   "cell_type": "code",
   "execution_count": 11,
   "metadata": {},
   "outputs": [
    {
     "data": {
      "text/plain": [
       "array([  -0.17740195,   58.89862272,  172.21913588])"
      ]
     },
     "execution_count": 11,
     "metadata": {},
     "output_type": "execute_result"
    }
   ],
   "source": [
    "popt"
   ]
  },
  {
   "cell_type": "code",
   "execution_count": null,
   "metadata": {
    "collapsed": true
   },
   "outputs": [],
   "source": []
  }
 ],
 "metadata": {
  "kernelspec": {
   "display_name": "Python [conda root]",
   "language": "python",
   "name": "conda-root-py"
  },
  "language_info": {
   "codemirror_mode": {
    "name": "ipython",
    "version": 3
   },
   "file_extension": ".py",
   "mimetype": "text/x-python",
   "name": "python",
   "nbconvert_exporter": "python",
   "pygments_lexer": "ipython3",
   "version": "3.5.3"
  },
  "latex_envs": {
   "LaTeX_envs_menu_present": true,
   "autoclose": false,
   "autocomplete": true,
   "bibliofile": "biblio.bib",
   "cite_by": "apalike",
   "current_citInitial": 1,
   "eqLabelWithNumbers": true,
   "eqNumInitial": 1,
   "hotkeys": {
    "equation": "Ctrl-E",
    "itemize": "Ctrl-I"
   },
   "labels_anchors": false,
   "latex_user_defs": false,
   "report_style_numbering": false,
   "user_envs_cfg": false
  }
 },
 "nbformat": 4,
 "nbformat_minor": 2
}
