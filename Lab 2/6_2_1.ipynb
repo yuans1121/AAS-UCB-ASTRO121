{
 "cells": [
  {
   "cell_type": "code",
   "execution_count": 1,
   "metadata": {},
   "outputs": [
    {
     "data": {
      "text/html": [
       "<style>.container { width:100% !important; }</style>"
      ],
      "text/plain": [
       "<IPython.core.display.HTML object>"
      ]
     },
     "metadata": {},
     "output_type": "display_data"
    }
   ],
   "source": [
    "# setup\n",
    "# import latex_plots\n",
    "import matplotlib.pyplot as plt, numpy as np\n",
    "from IPython.core.display import display, HTML\n",
    "from matplotlib.ticker import MultipleLocator\n",
    "from pylab import rcParams\n",
    "from numpy.fft import fftshift as shift\n",
    "from astropy import units as u, constants as c\n",
    "from matplotlib.ticker import MultipleLocator\n",
    "\n",
    "display(HTML(\"<style>.container { width:100% !important; }</style>\"))"
   ]
  },
  {
   "cell_type": "code",
   "execution_count": 2,
   "metadata": {
    "code_folding": [],
    "collapsed": true
   },
   "outputs": [],
   "source": [
    "# Functions\n",
    "def iter_loadtxt(filename, delimiter=',', skiprows=0, dtype=float):\n",
    "    def iter_func():\n",
    "        with open(filename, 'r') as infile:\n",
    "            for _ in range(skiprows):\n",
    "                next(infile)\n",
    "            for line in infile:\n",
    "                line = line.rstrip().split(delimiter)\n",
    "                for item in line:\n",
    "                    yield dtype(item)\n",
    "        iter_loadtxt.rowlength = len(line)\n",
    "\n",
    "    data = np.fromiter(iter_func(), dtype=dtype)\n",
    "    \n",
    "    return data\n",
    "\n",
    "def scale(data, volt_range):\n",
    "    volt_dict = {'50mV':0.05, '100mV':0.1, '200mV':0.2, '500mV':0.5, '1V':1., '2V':2., '5V':5., '10V':10., '20V':20.} \n",
    "    return data * volt_dict[volt_range] / np.iinfo(np.int16).max \n",
    "\n",
    "def reshape_complex(data, nblocks, nsamples = 16000):\n",
    "    split_data = np.array(np.split(data, nblocks * 2))\n",
    "    imag_index = np.array((np.arange(0, 2 * nblocks) >= nblocks), dtype = bool)\n",
    "    real_index = np.invert(imag_index)\n",
    "    return split_data[real_index] + 1j*split_data[imag_index]\n",
    "\n",
    "def power(data):\n",
    "    return np.abs(np.fft.fft(data))**2\n",
    "\n",
    "def freq_array(divisor, nsamples = 16000):\n",
    "    sample_rate = (62.5*u.MHz / float(divisor)).to(u.Hz)\n",
    "    dt = (1/sample_rate).to(u.s)\n",
    "    return np.fft.fftfreq(nsamples, dt).to(u.MHz)\n",
    "\n",
    "def time_array(divisor, units = 'us', nsamples = 16000):\n",
    "    \n",
    "    \"\"\"Comput time array. X-axis for plotting time-series.\n",
    "    \n",
    "    Args:\n",
    "        divisor         (int)   :   Indirect sample_rate control\n",
    "        units           (str)   :   Time units for output array.\n",
    "                                    --default = 'us' (microseconds)\n",
    "        nsamples        (int)   :   Number of elements in Y-axis array\n",
    "                                    --default = 16000\n",
    "\n",
    "    Returns:\n",
    "                    (ndarray)   :   1D array of Time in desired units\n",
    "    \"\"\"\n",
    "    \n",
    "    # Sample rate, in Hz\n",
    "    sample_rate = (62.5*u.MHz / float(divisor)).to(u.Hz)\n",
    "\n",
    "    # Time between samples, in seconds\n",
    "    dt = (1/sample_rate).to(u.s)\n",
    "    \n",
    "    if units == 'us':\n",
    "        return np.arange(0,nsamples) * dt.to(u.us)\n",
    "    elif units == 'None' or units == None:\n",
    "        return np.arange(0,nsamples) * dt"
   ]
  },
  {
   "cell_type": "code",
   "execution_count": 3,
   "metadata": {
    "collapsed": true
   },
   "outputs": [],
   "source": [
    "# global variables\n",
    "nblocks = 50\n",
    "divisor = 10\n",
    "volt_range = '200mV'\n",
    "nsamples = 16000\n",
    "towers = 1\n",
    "# channels = 25"
   ]
  },
  {
   "cell_type": "code",
   "execution_count": 4,
   "metadata": {},
   "outputs": [
    {
     "name": "stdout",
     "output_type": "stream",
     "text": [
      "1\n"
     ]
    }
   ],
   "source": [
    "towers_1230 = np.zeros((towers, nblocks * 2 * nsamples))\n",
    "for i in range(towers):\n",
    "    filename = '1230MHz/tower_' + str(i) + '.txt'\n",
    "    towers_1230[i, :] = iter_loadtxt(filename)\n",
    "    print(towers - i)"
   ]
  },
  {
   "cell_type": "code",
   "execution_count": 5,
   "metadata": {
    "collapsed": true
   },
   "outputs": [],
   "source": [
    "towers_1230 = scale(towers_1230, volt_range)"
   ]
  },
  {
   "cell_type": "code",
   "execution_count": null,
   "metadata": {},
   "outputs": [],
   "source": []
  },
  {
   "cell_type": "code",
   "execution_count": 6,
   "metadata": {
    "collapsed": true
   },
   "outputs": [],
   "source": [
    "towers_1230_block_0 = towers_1230[0][:nsamples]"
   ]
  },
  {
   "cell_type": "code",
   "execution_count": 7,
   "metadata": {
    "collapsed": true
   },
   "outputs": [],
   "source": [
    "times = time_array(divisor)"
   ]
  },
  {
   "cell_type": "code",
   "execution_count": 8,
   "metadata": {},
   "outputs": [
    {
     "data": {
      "image/png": "[encoded data removed]",
      "text/plain": [
       "<matplotlib.figure.Figure at 0x1096f25c0>"
      ]
     },
     "metadata": {},
     "output_type": "display_data"
    }
   ],
   "source": [
    "fig, ax = plt.subplots()\n",
    "x_range = nsamples\n",
    "ax.plot(times[times.value < 30], towers_1230_block_0[times.value < 30]*1e3)\n",
    "ax.set_ylim(-200, 200)\n",
    "ax.set_ylabel('Amplitude [ V ]')\n",
    "ax.set_xlabel('Time [ $\\mu$s ]')\n",
    "plt.show()"
   ]
  },
  {
   "cell_type": "code",
   "execution_count": 27,
   "metadata": {},
   "outputs": [
    {
     "data": {
      "text/plain": [
       "array([ 0.18281808,  0.18594317,  0.19531846,  0.19219337,  0.19844356,\n",
       "        0.18438063,  0.18438063,  0.18125553,  0.18906827,  0.18438063,\n",
       "        0.19219337,  0.18906827])"
      ]
     },
     "execution_count": 27,
     "metadata": {},
     "output_type": "execute_result"
    }
   ],
   "source": [
    "towers_1230_block_0[towers_1230_block_0 > .18]"
   ]
  },
  {
   "cell_type": "code",
   "execution_count": 25,
   "metadata": {},
   "outputs": [
    {
     "data": {
      "text/plain": [
       "-0.19844355601672417"
      ]
     },
     "execution_count": 25,
     "metadata": {},
     "output_type": "execute_result"
    }
   ],
   "source": [
    "min(towers_1230_block_0)"
   ]
  },
  {
   "cell_type": "code",
   "execution_count": 28,
   "metadata": {},
   "outputs": [
    {
     "data": {
      "text/plain": [
       "16000"
      ]
     },
     "execution_count": 28,
     "metadata": {},
     "output_type": "execute_result"
    }
   ],
   "source": [
    "len(towers_1230_block_0)"
   ]
  },
  {
   "cell_type": "code",
   "execution_count": 30,
   "metadata": {},
   "outputs": [
    {
     "data": {
      "text/latex": [
       "$[0,~0.16,~0.32,~\\dots, 29.6,~29.76,~29.92] \\; \\mathrm{\\mu s}$"
      ],
      "text/plain": [
       "<Quantity [  0.  ,  0.16,  0.32,  0.48,  0.64,  0.8 ,  0.96,  1.12,  1.28,\n",
       "             1.44,  1.6 ,  1.76,  1.92,  2.08,  2.24,  2.4 ,  2.56,  2.72,\n",
       "             2.88,  3.04,  3.2 ,  3.36,  3.52,  3.68,  3.84,  4.  ,  4.16,\n",
       "             4.32,  4.48,  4.64,  4.8 ,  4.96,  5.12,  5.28,  5.44,  5.6 ,\n",
       "             5.76,  5.92,  6.08,  6.24,  6.4 ,  6.56,  6.72,  6.88,  7.04,\n",
       "             7.2 ,  7.36,  7.52,  7.68,  7.84,  8.  ,  8.16,  8.32,  8.48,\n",
       "             8.64,  8.8 ,  8.96,  9.12,  9.28,  9.44,  9.6 ,  9.76,  9.92,\n",
       "            10.08, 10.24, 10.4 , 10.56, 10.72, 10.88, 11.04, 11.2 , 11.36,\n",
       "            11.52, 11.68, 11.84, 12.  , 12.16, 12.32, 12.48, 12.64, 12.8 ,\n",
       "            12.96, 13.12, 13.28, 13.44, 13.6 , 13.76, 13.92, 14.08, 14.24,\n",
       "            14.4 , 14.56, 14.72, 14.88, 15.04, 15.2 , 15.36, 15.52, 15.68,\n",
       "            15.84, 16.  , 16.16, 16.32, 16.48, 16.64, 16.8 , 16.96, 17.12,\n",
       "            17.28, 17.44, 17.6 , 17.76, 17.92, 18.08, 18.24, 18.4 , 18.56,\n",
       "            18.72, 18.88, 19.04, 19.2 , 19.36, 19.52, 19.68, 19.84, 20.  ,\n",
       "            20.16, 20.32, 20.48, 20.64, 20.8 , 20.96, 21.12, 21.28, 21.44,\n",
       "            21.6 , 21.76, 21.92, 22.08, 22.24, 22.4 , 22.56, 22.72, 22.88,\n",
       "            23.04, 23.2 , 23.36, 23.52, 23.68, 23.84, 24.  , 24.16, 24.32,\n",
       "            24.48, 24.64, 24.8 , 24.96, 25.12, 25.28, 25.44, 25.6 , 25.76,\n",
       "            25.92, 26.08, 26.24, 26.4 , 26.56, 26.72, 26.88, 27.04, 27.2 ,\n",
       "            27.36, 27.52, 27.68, 27.84, 28.  , 28.16, 28.32, 28.48, 28.64,\n",
       "            28.8 , 28.96, 29.12, 29.28, 29.44, 29.6 , 29.76, 29.92] us>"
      ]
     },
     "execution_count": 30,
     "metadata": {},
     "output_type": "execute_result"
    }
   ],
   "source": []
  },
  {
   "cell_type": "code",
   "execution_count": null,
   "metadata": {
    "collapsed": true
   },
   "outputs": [],
   "source": []
  }
 ],
 "metadata": {
  "kernelspec": {
   "display_name": "Python [conda root]",
   "language": "python",
   "name": "conda-root-py"
  },
  "language_info": {
   "codemirror_mode": {
    "name": "ipython",
    "version": 3
   },
   "file_extension": ".py",
   "mimetype": "text/x-python",
   "name": "python",
   "nbconvert_exporter": "python",
   "pygments_lexer": "ipython3",
   "version": "3.5.3"
  },
  "latex_envs": {
   "LaTeX_envs_menu_present": true,
   "autoclose": false,
   "autocomplete": true,
   "bibliofile": "biblio.bib",
   "cite_by": "apalike",
   "current_citInitial": 1,
   "eqLabelWithNumbers": true,
   "eqNumInitial": 1,
   "hotkeys": {
    "equation": "Ctrl-E",
    "itemize": "Ctrl-I"
   },
   "labels_anchors": false,
   "latex_user_defs": false,
   "report_style_numbering": false,
   "user_envs_cfg": false
  }
 },
 "nbformat": 4,
 "nbformat_minor": 2
}
