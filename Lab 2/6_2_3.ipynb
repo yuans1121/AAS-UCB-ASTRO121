{
 "cells": [
  {
   "cell_type": "code",
   "execution_count": 1,
   "metadata": {},
   "outputs": [
    {
     "data": {
      "text/html": [
       "<style>.container { width:100% !important; }</style>"
      ],
      "text/plain": [
       "<IPython.core.display.HTML object>"
      ]
     },
     "metadata": {},
     "output_type": "display_data"
    }
   ],
   "source": [
    "# setup\n",
    "# import latex_plots\n",
    "import matplotlib.pyplot as plt, numpy as np\n",
    "from IPython.core.display import display, HTML\n",
    "from matplotlib.ticker import MultipleLocator\n",
    "from pylab import rcParams\n",
    "from numpy.fft import fftshift as shift\n",
    "from astropy import units as u, constants as c\n",
    "from matplotlib.ticker import MultipleLocator\n",
    "\n",
    "display(HTML(\"<style>.container { width:100% !important; }</style>\"))"
   ]
  },
  {
   "cell_type": "code",
   "execution_count": 4,
   "metadata": {
    "code_folding": [],
    "collapsed": true
   },
   "outputs": [],
   "source": [
    "# Functions\n",
    "def iter_loadtxt(filename, delimiter=',', skiprows=0, dtype=float):\n",
    "    def iter_func():\n",
    "        with open(filename, 'r') as infile:\n",
    "            for _ in range(skiprows):\n",
    "                next(infile)\n",
    "            for line in infile:\n",
    "                line = line.rstrip().split(delimiter)\n",
    "                for item in line:\n",
    "                    yield dtype(item)\n",
    "        iter_loadtxt.rowlength = len(line)\n",
    "\n",
    "    data = np.fromiter(iter_func(), dtype=dtype)\n",
    "    \n",
    "    return data\n",
    "\n",
    "def scale(data, volt_range):\n",
    "    volt_dict = {'50mV':0.05, '100mV':0.1, '200mV':0.2, '500mV':0.5, '1V':1., '2V':2., '5V':5., '10V':10., '20V':20.} \n",
    "    return data * volt_dict[volt_range] / np.iinfo(np.int16).max \n",
    "\n",
    "def reshape_complex(data, nblocks, nsamples = 16000):\n",
    "    split_data = np.array(np.split(data, nblocks * 2))\n",
    "    imag_index = np.array((np.arange(0, 2 * nblocks) >= nblocks), dtype = bool)\n",
    "    real_index = np.invert(imag_index)\n",
    "    return split_data[real_index] + 1j*split_data[imag_index]\n",
    "\n",
    "def power(data):\n",
    "    return np.abs(np.fft.fft(data))**2\n",
    "\n",
    "def freq_array(divisor, nsamples = 16000):\n",
    "    sample_rate = (62.5*u.MHz / float(divisor)).to(u.Hz)\n",
    "    dt = (1/sample_rate).to(u.s)\n",
    "    return np.fft.fftfreq(nsamples, dt).to(u.MHz)\n",
    "\n",
    "def time_array(divisor, units = 'us', nsamples = 16000):\n",
    "    \n",
    "    \"\"\"Comput time array. X-axis for plotting time-series.\n",
    "    \n",
    "    Args:\n",
    "        divisor         (int)   :   Indirect sample_rate control\n",
    "        units           (str)   :   Time units for output array.\n",
    "                                    --default = 'us' (microseconds)\n",
    "        nsamples        (int)   :   Number of elements in Y-axis array\n",
    "                                    --default = 16000\n",
    "\n",
    "    Returns:\n",
    "                    (ndarray)   :   1D array of Time in desired units\n",
    "    \"\"\"\n",
    "    \n",
    "    # Sample rate, in Hz\n",
    "    sample_rate = (62.5*u.MHz / float(divisor)).to(u.Hz)\n",
    "\n",
    "    # Time between samples, in seconds\n",
    "    dt = (1/sample_rate).to(u.s)\n",
    "    \n",
    "    if units == 'us':\n",
    "        return np.arange(0,nsamples) * dt.to(u.us)\n",
    "    elif units == 'None' or units == None:\n",
    "        return np.arange(0,nsamples) * dt"
   ]
  },
  {
   "cell_type": "code",
   "execution_count": 22,
   "metadata": {
    "collapsed": true
   },
   "outputs": [],
   "source": [
    "# global variables\n",
    "nblocks = 50\n",
    "divisor = 10\n",
    "volt_range = '200mV'\n",
    "nsamples = 16000\n",
    "towers = 1\n",
    "channels = 25"
   ]
  },
  {
   "cell_type": "code",
   "execution_count": 31,
   "metadata": {
    "collapsed": true
   },
   "outputs": [],
   "source": [
    "towers_1421 = np.zeros((towers, nblocks * 2 * nsamples))\n",
    "for i in range(towers):\n",
    "    filename = 'TEST/tower_1421_' + str(i) + '.txt'\n",
    "    towers_1421[i, :] = iter_loadtxt(filename)\n",
    "towers_1421 = scale(towers_1421, volt_range)\n",
    "towers_1421_c = np.array([reshape_complex(tower, nblocks) for tower in towers_1421])\n",
    "towers_1421_c = towers_1421_c.reshape((towers_1421_c.shape[0]*towers_1421_c.shape[1], towers_1421_c.shape[2]))\n",
    "powers = np.abs(np.fft.fft(towers_1421_c[0], norm = 'ortho'))**2"
   ]
  },
  {
   "cell_type": "code",
   "execution_count": 76,
   "metadata": {
    "collapsed": true
   },
   "outputs": [],
   "source": [
    "towers_1419 = np.zeros((towers, nblocks * 2 * nsamples))\n",
    "for i in range(towers):\n",
    "    filename = 'TEST/tower_1419_' + str(i) + '.txt'\n",
    "    towers_1419[i, :] = iter_loadtxt(filename)\n",
    "towers_1419 = scale(towers_1419, volt_range)\n",
    "towers_1419_c = np.array([reshape_complex(tower, nblocks) for tower in towers_1419])\n",
    "towers_1419_c = towers_1419_c.reshape((towers_1419_c.shape[0]*towers_1419_c.shape[1], towers_1419_c.shape[2]))\n",
    "powers_2 = np.abs(np.fft.fft(towers_1419_c[0], norm = 'ortho'))**2"
   ]
  },
  {
   "cell_type": "code",
   "execution_count": 83,
   "metadata": {},
   "outputs": [
    {
     "data": {
      "image/png": "[encoded data removed]",
      "text/plain": [
       "<matplotlib.figure.Figure at 0x1144b2160>"
      ]
     },
     "metadata": {},
     "output_type": "display_data"
    }
   ],
   "source": [
    "freqss = freq_array(divisor)\n",
    "fig, ax = plt.subplots()\n",
    "ax.plot(shift(freqss), shift(powers_2), linewidth = 1, color = 'black', ls = '--')\n",
    "ax.plot(shift(freqss), shift(powers), linewidth = 1, color = 'black')\n",
    "ax.set_title('Inserting test signals')\n",
    "ax.set_ylabel(r'Power [ $V^2s^2N^{-1}$ ]')\n",
    "ax.set_xlabel('Frequency [ MHz ]')\n",
    "ax.set_ylim(0,5)\n",
    "plt.show()"
   ]
  },
  {
   "cell_type": "code",
   "execution_count": null,
   "metadata": {
    "collapsed": true
   },
   "outputs": [],
   "source": []
  }
 ],
 "metadata": {
  "kernelspec": {
   "display_name": "Python [conda root]",
   "language": "python",
   "name": "conda-root-py"
  },
  "language_info": {
   "codemirror_mode": {
    "name": "ipython",
    "version": 3
   },
   "file_extension": ".py",
   "mimetype": "text/x-python",
   "name": "python",
   "nbconvert_exporter": "python",
   "pygments_lexer": "ipython3",
   "version": "3.5.3"
  },
  "latex_envs": {
   "LaTeX_envs_menu_present": true,
   "autoclose": false,
   "autocomplete": true,
   "bibliofile": "biblio.bib",
   "cite_by": "apalike",
   "current_citInitial": 1,
   "eqLabelWithNumbers": true,
   "eqNumInitial": 1,
   "hotkeys": {
    "equation": "Ctrl-E",
    "itemize": "Ctrl-I"
   },
   "labels_anchors": false,
   "latex_user_defs": false,
   "report_style_numbering": false,
   "user_envs_cfg": false
  }
 },
 "nbformat": 4,
 "nbformat_minor": 2
}
